{
 "cells": [
  {
   "cell_type": "code",
   "execution_count": 12,
   "metadata": {},
   "outputs": [
    {
     "name": "stdout",
     "output_type": "stream",
     "text": [
      "   ID  FoodID     Name  Quantity   Price  Discount  Stock\n",
      "0   1       4  Pancake  5 pieces  INR250       0.5     20\n",
      "1   2       5   Muffin  8 pieces  INR150       0.2     30\n",
      "    FoodID    Name  Quantity   Price  Discount  Stock\n",
      "ID                                                   \n",
      "2        5  Muffin  8 pieces  INR150       0.2     30\n"
     ]
    }
   ],
   "source": [
    "import pandas as pd\n",
    "\n",
    "def fooddel():\n",
    "    url = \"temp.csv\"\n",
    "    df = pd.read_csv(url)\n",
    "    print(df)\n",
    "    del_input = int(input(\"Enter Id to be deleted\"))\n",
    "  \n",
    "    df_s1 = df[:]\n",
    "    df_s1.set_index('ID', inplace=True)\n",
    "\n",
    "    df_s1 = df_s1.drop(del_input)\n",
    "   \n",
    "    print(df_s1)\n",
    "\n",
    "\n",
    "\n"
   ]
  },
  {
   "cell_type": "code",
   "execution_count": null,
   "metadata": {},
   "outputs": [],
   "source": []
  },
  {
   "cell_type": "code",
   "execution_count": null,
   "metadata": {},
   "outputs": [],
   "source": []
  }
 ],
 "metadata": {
  "kernelspec": {
   "display_name": "base",
   "language": "python",
   "name": "python3"
  },
  "language_info": {
   "codemirror_mode": {
    "name": "ipython",
    "version": 3
   },
   "file_extension": ".py",
   "mimetype": "text/x-python",
   "name": "python",
   "nbconvert_exporter": "python",
   "pygments_lexer": "ipython3",
   "version": "3.9.13"
  },
  "orig_nbformat": 4,
  "vscode": {
   "interpreter": {
    "hash": "0fb00860e0526ae8cef64ba37be3cc7eac35202b11e546400150ca960a905e1e"
   }
  }
 },
 "nbformat": 4,
 "nbformat_minor": 2
}
